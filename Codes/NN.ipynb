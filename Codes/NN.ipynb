{
 "cells": [
  {
   "cell_type": "markdown",
   "metadata": {},
   "source": [
    "# Problem 2 - NN-model"
   ]
  },
  {
   "cell_type": "markdown",
   "metadata": {},
   "source": [
    "First we import all the require libraries:"
   ]
  },
  {
   "cell_type": "code",
   "execution_count": 1,
   "metadata": {},
   "outputs": [
    {
     "name": "stderr",
     "output_type": "stream",
     "text": [
      "/home/hossein/snap/jupyter/common/lib/python3.7/site-packages/joblib/_multiprocessing_helpers.py:45: UserWarning: [Errno 13] Permission denied.  joblib will operate in serial mode\n",
      "  warnings.warn('%s.  joblib will operate in serial mode' % (e,))\n"
     ]
    }
   ],
   "source": [
    "import pandas as pd\n",
    "import numpy as np\n",
    "import matplotlib.pyplot as plt\n",
    "import csv\n",
    "import keras\n",
    "from keras.models import Sequential\n",
    "from keras.layers import Dense, Dropout\n",
    "from keras.optimizers import RMSprop\n",
    "from sklearn.metrics import balanced_accuracy_score\n",
    "from tensorflow.keras.models import Sequential, save_model, load_model\n",
    "from keras import optimizers\n",
    "import tensorflow as tf\n",
    "from keras.optimizers import SGD"
   ]
  },
  {
   "cell_type": "markdown",
   "metadata": {},
   "source": [
    "Then by the help of pandas, we input the data set:"
   ]
  },
  {
   "cell_type": "code",
   "execution_count": 2,
   "metadata": {},
   "outputs": [
    {
     "data": {
      "text/html": [
       "<div>\n",
       "<style scoped>\n",
       "    .dataframe tbody tr th:only-of-type {\n",
       "        vertical-align: middle;\n",
       "    }\n",
       "\n",
       "    .dataframe tbody tr th {\n",
       "        vertical-align: top;\n",
       "    }\n",
       "\n",
       "    .dataframe thead th {\n",
       "        text-align: right;\n",
       "    }\n",
       "</style>\n",
       "<table border=\"1\" class=\"dataframe\">\n",
       "  <thead>\n",
       "    <tr style=\"text-align: right;\">\n",
       "      <th></th>\n",
       "      <th>app_id</th>\n",
       "      <th>description_fa</th>\n",
       "      <th>label</th>\n",
       "    </tr>\n",
       "  </thead>\n",
       "  <tbody>\n",
       "    <tr>\n",
       "      <th>0</th>\n",
       "      <td>0</td>\n",
       "      <td>&lt;p&gt;بازی مین روب یک برنامه فکری است که باید مین...</td>\n",
       "      <td>1</td>\n",
       "    </tr>\n",
       "    <tr>\n",
       "      <th>1</th>\n",
       "      <td>1</td>\n",
       "      <td>&lt;p&gt;دراین بازی تعدادی عکس برای شما نشان داده می...</td>\n",
       "      <td>1</td>\n",
       "    </tr>\n",
       "    <tr>\n",
       "      <th>2</th>\n",
       "      <td>2</td>\n",
       "      <td>&lt;br&gt;تلاش نافرجام برای درک «بوفالو»&lt;br&gt;مرگ پایا...</td>\n",
       "      <td>7</td>\n",
       "    </tr>\n",
       "    <tr>\n",
       "      <th>3</th>\n",
       "      <td>3</td>\n",
       "      <td>&lt;p&gt;فیلم نما ، برنامه ای برای دانلود و پخش آنلا...</td>\n",
       "      <td>7</td>\n",
       "    </tr>\n",
       "    <tr>\n",
       "      <th>4</th>\n",
       "      <td>4</td>\n",
       "      <td>&lt;p&gt;* این برنامه حاوی بیش از 500 عکس و ژست برای...</td>\n",
       "      <td>7</td>\n",
       "    </tr>\n",
       "  </tbody>\n",
       "</table>\n",
       "</div>"
      ],
      "text/plain": [
       "   app_id                                     description_fa  label\n",
       "0       0  <p>بازی مین روب یک برنامه فکری است که باید مین...      1\n",
       "1       1  <p>دراین بازی تعدادی عکس برای شما نشان داده می...      1\n",
       "2       2  <br>تلاش نافرجام برای درک «بوفالو»<br>مرگ پایا...      7\n",
       "3       3  <p>فیلم نما ، برنامه ای برای دانلود و پخش آنلا...      7\n",
       "4       4  <p>* این برنامه حاوی بیش از 500 عکس و ژست برای...      7"
      ]
     },
     "execution_count": 2,
     "metadata": {},
     "output_type": "execute_result"
    }
   ],
   "source": [
    "df = pd.read_csv(\"train_set2.csv\" , encoding = 'utf-8')\n",
    "df.head()"
   ]
  },
  {
   "cell_type": "code",
   "execution_count": 3,
   "metadata": {},
   "outputs": [
    {
     "data": {
      "text/plain": [
       "(37899, 3)"
      ]
     },
     "execution_count": 3,
     "metadata": {},
     "output_type": "execute_result"
    }
   ],
   "source": [
    "df.shape"
   ]
  },
  {
   "cell_type": "markdown",
   "metadata": {},
   "source": [
    "Now we make X and Y train:"
   ]
  },
  {
   "cell_type": "code",
   "execution_count": 9,
   "metadata": {},
   "outputs": [],
   "source": [
    "X_train = df.drop(columns=['app_id'])\n",
    "Y_train = df['label']\n",
    "Y_train_array = Y_train.values"
   ]
  },
  {
   "cell_type": "code",
   "execution_count": 21,
   "metadata": {},
   "outputs": [],
   "source": [
    "Y_train_ca =  keras.utils.to_categorical(Y_train, 10)"
   ]
  },
  {
   "cell_type": "code",
   "execution_count": 11,
   "metadata": {},
   "outputs": [],
   "source": [
    "def read_fasttext_vecs(fasttext_file):\n",
    "    with open(fasttext_file, encoding=\"utf-8\") as f:\n",
    "        c=0\n",
    "        words = set()\n",
    "        word_to_vec_map = {}\n",
    "        for line in f:\n",
    "            line = line.strip().split()\n",
    "            curr_word = line[0]\n",
    "            words.add(curr_word)\n",
    "            c=c+1\n",
    "            word_to_vec_map[curr_word] = np.array(line[1:], dtype=np.float64)\n",
    "        \n",
    "        i = 1\n",
    "        words_to_index = {}\n",
    "        index_to_words = {}\n",
    "        for w in (words):\n",
    "            words_to_index[w] = i\n",
    "            index_to_words[i] = w\n",
    "            i = i + 1\n",
    "    return words_to_index, index_to_words, word_to_vec_map"
   ]
  },
  {
   "cell_type": "markdown",
   "metadata": {},
   "source": [
    "Dictionary mapping words to their fasstest vector representation"
   ]
  },
  {
   "cell_type": "code",
   "execution_count": 12,
   "metadata": {},
   "outputs": [],
   "source": [
    "word_to_index, index_to_word, word_to_vec_map = read_fasttext_vecs('cc.fa.300.vec')"
   ]
  },
  {
   "cell_type": "markdown",
   "metadata": {},
   "source": [
    "A function for converting a sentence to the average embedding of words in the sentence:"
   ]
  },
  {
   "cell_type": "code",
   "execution_count": 13,
   "metadata": {},
   "outputs": [],
   "source": [
    "def sentence_to_avg(sentence, word_to_vec_map):\n",
    "    words = sentence.split()\n",
    "    avg = np.zeros((300,))\n",
    "    for w in words:\n",
    "        try:\n",
    "            vec=word_to_vec_map[w]\n",
    "        except :\n",
    "            vec=np.zeros((300,))\n",
    "        avg += vec   \n",
    "    avg = avg/len(words)\n",
    "    return avg"
   ]
  },
  {
   "cell_type": "markdown",
   "metadata": {},
   "source": [
    "Average embedding of words in each row of train and test data as input of the model"
   ]
  },
  {
   "cell_type": "code",
   "execution_count": 14,
   "metadata": {},
   "outputs": [],
   "source": [
    "avg_train=[]\n",
    "for i in range(len(X_train)):\n",
    "    avg_train.append(sentence_to_avg(X_train.description_fa[i],word_to_vec_map))"
   ]
  },
  {
   "cell_type": "code",
   "execution_count": 23,
   "metadata": {
    "scrolled": true
   },
   "outputs": [
    {
     "name": "stdout",
     "output_type": "stream",
     "text": [
      "Model: \"sequential_2\"\n",
      "_________________________________________________________________\n",
      "Layer (type)                 Output Shape              Param #   \n",
      "=================================================================\n",
      "dense_6 (Dense)              (None, 512)               154112    \n",
      "_________________________________________________________________\n",
      "dropout_4 (Dropout)          (None, 512)               0         \n",
      "_________________________________________________________________\n",
      "dense_7 (Dense)              (None, 512)               262656    \n",
      "_________________________________________________________________\n",
      "dropout_5 (Dropout)          (None, 512)               0         \n",
      "_________________________________________________________________\n",
      "dense_8 (Dense)              (None, 10)                5130      \n",
      "=================================================================\n",
      "Total params: 421,898\n",
      "Trainable params: 421,898\n",
      "Non-trainable params: 0\n",
      "_________________________________________________________________\n"
     ]
    }
   ],
   "source": [
    "# MLP model architecture\n",
    "batch_size = 370\n",
    "num_classes = 10\n",
    "epochs = 40\n",
    "loss_function = 'mean_squared_error'\n",
    "optimizer = 'adam'\n",
    "model = Sequential()\n",
    "model.add(Dense(512, activation='relu', input_shape=(300,)))\n",
    "model.add(Dropout(0.2))\n",
    "model.add(Dense(512, activation='relu'))\n",
    "model.add(Dropout(0.2))\n",
    "model.add(Dense(num_classes, activation='softmax'))\n",
    "model.summary()\n",
    "model.compile(loss= loss_function,\n",
    "              optimizer=optimizer,\n",
    "              metrics=['accuracy'])"
   ]
  },
  {
   "cell_type": "markdown",
   "metadata": {},
   "source": [
    "Train the model\n"
   ]
  },
  {
   "cell_type": "code",
   "execution_count": 24,
   "metadata": {},
   "outputs": [
    {
     "name": "stdout",
     "output_type": "stream",
     "text": [
      "Epoch 1/40\n",
      "103/103 [==============================] - 2s 16ms/step - loss: 0.0750 - accuracy: 0.3921\n",
      "Epoch 2/40\n",
      "103/103 [==============================] - 2s 16ms/step - loss: 0.0533 - accuracy: 0.5957\n",
      "Epoch 3/40\n",
      "103/103 [==============================] - 2s 16ms/step - loss: 0.0491 - accuracy: 0.6334\n",
      "Epoch 4/40\n",
      "103/103 [==============================] - 2s 16ms/step - loss: 0.0470 - accuracy: 0.6534\n",
      "Epoch 5/40\n",
      "103/103 [==============================] - 2s 16ms/step - loss: 0.0457 - accuracy: 0.6636\n",
      "Epoch 6/40\n",
      "103/103 [==============================] - 2s 16ms/step - loss: 0.0447 - accuracy: 0.6731\n",
      "Epoch 7/40\n",
      "103/103 [==============================] - 2s 16ms/step - loss: 0.0441 - accuracy: 0.6791\n",
      "Epoch 8/40\n",
      "103/103 [==============================] - 2s 17ms/step - loss: 0.0433 - accuracy: 0.6834\n",
      "Epoch 9/40\n",
      "103/103 [==============================] - 2s 16ms/step - loss: 0.0426 - accuracy: 0.6912\n",
      "Epoch 10/40\n",
      "103/103 [==============================] - 2s 16ms/step - loss: 0.0422 - accuracy: 0.6933\n",
      "Epoch 11/40\n",
      "103/103 [==============================] - 2s 17ms/step - loss: 0.0418 - accuracy: 0.6972\n",
      "Epoch 12/40\n",
      "103/103 [==============================] - 2s 18ms/step - loss: 0.0410 - accuracy: 0.7037\n",
      "Epoch 13/40\n",
      "103/103 [==============================] - 2s 16ms/step - loss: 0.0407 - accuracy: 0.7068\n",
      "Epoch 14/40\n",
      "103/103 [==============================] - 2s 16ms/step - loss: 0.0400 - accuracy: 0.7134\n",
      "Epoch 15/40\n",
      "103/103 [==============================] - 2s 17ms/step - loss: 0.0395 - accuracy: 0.7190\n",
      "Epoch 16/40\n",
      "103/103 [==============================] - 2s 17ms/step - loss: 0.0391 - accuracy: 0.7214\n",
      "Epoch 17/40\n",
      "103/103 [==============================] - 2s 16ms/step - loss: 0.0387 - accuracy: 0.7251\n",
      "Epoch 18/40\n",
      "103/103 [==============================] - 2s 16ms/step - loss: 0.0383 - accuracy: 0.7270\n",
      "Epoch 19/40\n",
      "103/103 [==============================] - 2s 19ms/step - loss: 0.0379 - accuracy: 0.7308\n",
      "Epoch 20/40\n",
      "103/103 [==============================] - 2s 20ms/step - loss: 0.0374 - accuracy: 0.7342\n",
      "Epoch 21/40\n",
      "103/103 [==============================] - 2s 20ms/step - loss: 0.0370 - accuracy: 0.7381\n",
      "Epoch 22/40\n",
      "103/103 [==============================] - 2s 21ms/step - loss: 0.0365 - accuracy: 0.7431\n",
      "Epoch 23/40\n",
      "103/103 [==============================] - 2s 16ms/step - loss: 0.0361 - accuracy: 0.7465\n",
      "Epoch 24/40\n",
      "103/103 [==============================] - 2s 21ms/step - loss: 0.0356 - accuracy: 0.7488\n",
      "Epoch 25/40\n",
      "103/103 [==============================] - 2s 21ms/step - loss: 0.0354 - accuracy: 0.7506\n",
      "Epoch 26/40\n",
      "103/103 [==============================] - 2s 18ms/step - loss: 0.0350 - accuracy: 0.7545\n",
      "Epoch 27/40\n",
      "103/103 [==============================] - 2s 17ms/step - loss: 0.0345 - accuracy: 0.7589\n",
      "Epoch 28/40\n",
      "103/103 [==============================] - 2s 17ms/step - loss: 0.0341 - accuracy: 0.7615\n",
      "Epoch 29/40\n",
      "103/103 [==============================] - 2s 17ms/step - loss: 0.0336 - accuracy: 0.7679\n",
      "Epoch 30/40\n",
      "103/103 [==============================] - 2s 16ms/step - loss: 0.0334 - accuracy: 0.7673\n",
      "Epoch 31/40\n",
      "103/103 [==============================] - 2s 21ms/step - loss: 0.0330 - accuracy: 0.7722\n",
      "Epoch 32/40\n",
      "103/103 [==============================] - 2s 18ms/step - loss: 0.0326 - accuracy: 0.7772\n",
      "Epoch 33/40\n",
      "103/103 [==============================] - 2s 16ms/step - loss: 0.0321 - accuracy: 0.7794\n",
      "Epoch 34/40\n",
      "103/103 [==============================] - 2s 16ms/step - loss: 0.0318 - accuracy: 0.7819\n",
      "Epoch 35/40\n",
      "103/103 [==============================] - 2s 17ms/step - loss: 0.0315 - accuracy: 0.7844\n",
      "Epoch 36/40\n",
      "103/103 [==============================] - 2s 17ms/step - loss: 0.0310 - accuracy: 0.7881\n",
      "Epoch 37/40\n",
      "103/103 [==============================] - 2s 17ms/step - loss: 0.0307 - accuracy: 0.7918\n",
      "Epoch 38/40\n",
      "103/103 [==============================] - 2s 17ms/step - loss: 0.0304 - accuracy: 0.7938\n",
      "Epoch 39/40\n",
      "103/103 [==============================] - 2s 17ms/step - loss: 0.0300 - accuracy: 0.7964\n",
      "Epoch 40/40\n",
      "103/103 [==============================] - 2s 17ms/step - loss: 0.0296 - accuracy: 0.8007\n"
     ]
    }
   ],
   "source": [
    "history = model.fit(np.array(avg_train), Y_train_ca,\n",
    "                    batch_size=batch_size,\n",
    "                    epochs=epochs,\n",
    "                    verbose=1)"
   ]
  },
  {
   "cell_type": "markdown",
   "metadata": {},
   "source": [
    "Print evaluation of the model on train data\n"
   ]
  },
  {
   "cell_type": "code",
   "execution_count": 26,
   "metadata": {},
   "outputs": [
    {
     "name": "stdout",
     "output_type": "stream",
     "text": [
      "Test loss: 0.02745191939175129\n",
      "Test accuracy: 0.8193092346191406\n"
     ]
    }
   ],
   "source": [
    "score = model.evaluate(np.array(avg_train), Y_train_ca, verbose=0)\n",
    "print('Test loss:', score[0])\n",
    "print('Test accuracy:', score[1])"
   ]
  },
  {
   "cell_type": "code",
   "execution_count": 27,
   "metadata": {},
   "outputs": [
    {
     "data": {
      "text/plain": [
       "[<matplotlib.lines.Line2D at 0x7f16ff992e48>]"
      ]
     },
     "execution_count": 27,
     "metadata": {},
     "output_type": "execute_result"
    },
    {
     "data": {
      "image/png": "[encoded data removed]",
      "text/plain": [
       "<Figure size 432x288 with 1 Axes>"
      ]
     },
     "metadata": {
      "needs_background": "light"
     },
     "output_type": "display_data"
    }
   ],
   "source": [
    "plt.plot(history.history['loss'],history.history['accuracy'])"
   ]
  },
  {
   "cell_type": "markdown",
   "metadata": {},
   "source": [
    "Now let's Doing it on test dataset:"
   ]
  },
  {
   "cell_type": "code",
   "execution_count": 28,
   "metadata": {},
   "outputs": [],
   "source": [
    "test_set = pd.read_csv(\"test_set2.csv\" , encoding = 'utf-8')"
   ]
  },
  {
   "cell_type": "code",
   "execution_count": 30,
   "metadata": {},
   "outputs": [],
   "source": [
    "X_test = test_set.drop(columns=['app_id'])"
   ]
  },
  {
   "cell_type": "code",
   "execution_count": 31,
   "metadata": {},
   "outputs": [],
   "source": [
    "avg_test=[]\n",
    "for i in range(len(X_test)):\n",
    "    avg_test.append(sentence_to_avg(X_test.description_fa[i],word_to_vec_map))"
   ]
  },
  {
   "cell_type": "code",
   "execution_count": 32,
   "metadata": {},
   "outputs": [],
   "source": [
    "prediction = np.argmax(model.predict(np.array(avg_test)), axis = -1)"
   ]
  },
  {
   "cell_type": "code",
   "execution_count": 33,
   "metadata": {},
   "outputs": [
    {
     "data": {
      "text/html": [
       "<div>\n",
       "<style scoped>\n",
       "    .dataframe tbody tr th:only-of-type {\n",
       "        vertical-align: middle;\n",
       "    }\n",
       "\n",
       "    .dataframe tbody tr th {\n",
       "        vertical-align: top;\n",
       "    }\n",
       "\n",
       "    .dataframe thead th {\n",
       "        text-align: right;\n",
       "    }\n",
       "</style>\n",
       "<table border=\"1\" class=\"dataframe\">\n",
       "  <thead>\n",
       "    <tr style=\"text-align: right;\">\n",
       "      <th></th>\n",
       "      <th>label</th>\n",
       "    </tr>\n",
       "  </thead>\n",
       "  <tbody>\n",
       "    <tr>\n",
       "      <th>0</th>\n",
       "      <td>3</td>\n",
       "    </tr>\n",
       "    <tr>\n",
       "      <th>1</th>\n",
       "      <td>8</td>\n",
       "    </tr>\n",
       "    <tr>\n",
       "      <th>2</th>\n",
       "      <td>5</td>\n",
       "    </tr>\n",
       "    <tr>\n",
       "      <th>3</th>\n",
       "      <td>9</td>\n",
       "    </tr>\n",
       "    <tr>\n",
       "      <th>4</th>\n",
       "      <td>3</td>\n",
       "    </tr>\n",
       "    <tr>\n",
       "      <th>...</th>\n",
       "      <td>...</td>\n",
       "    </tr>\n",
       "    <tr>\n",
       "      <th>9995</th>\n",
       "      <td>9</td>\n",
       "    </tr>\n",
       "    <tr>\n",
       "      <th>9996</th>\n",
       "      <td>9</td>\n",
       "    </tr>\n",
       "    <tr>\n",
       "      <th>9997</th>\n",
       "      <td>6</td>\n",
       "    </tr>\n",
       "    <tr>\n",
       "      <th>9998</th>\n",
       "      <td>5</td>\n",
       "    </tr>\n",
       "    <tr>\n",
       "      <th>9999</th>\n",
       "      <td>5</td>\n",
       "    </tr>\n",
       "  </tbody>\n",
       "</table>\n",
       "<p>10000 rows × 1 columns</p>\n",
       "</div>"
      ],
      "text/plain": [
       "      label\n",
       "0         3\n",
       "1         8\n",
       "2         5\n",
       "3         9\n",
       "4         3\n",
       "...     ...\n",
       "9995      9\n",
       "9996      9\n",
       "9997      6\n",
       "9998      5\n",
       "9999      5\n",
       "\n",
       "[10000 rows x 1 columns]"
      ]
     },
     "execution_count": 33,
     "metadata": {},
     "output_type": "execute_result"
    }
   ],
   "source": [
    "df2 = pd.DataFrame(prediction, columns=[\"label\"])\n",
    "df2"
   ]
  },
  {
   "cell_type": "code",
   "execution_count": 34,
   "metadata": {},
   "outputs": [],
   "source": [
    "df2.insert(column = 'app_id', value = test_set.app_id, loc = 0)"
   ]
  },
  {
   "cell_type": "code",
   "execution_count": 103,
   "metadata": {},
   "outputs": [
    {
     "data": {
      "text/html": [
       "<div>\n",
       "<style scoped>\n",
       "    .dataframe tbody tr th:only-of-type {\n",
       "        vertical-align: middle;\n",
       "    }\n",
       "\n",
       "    .dataframe tbody tr th {\n",
       "        vertical-align: top;\n",
       "    }\n",
       "\n",
       "    .dataframe thead th {\n",
       "        text-align: right;\n",
       "    }\n",
       "</style>\n",
       "<table border=\"1\" class=\"dataframe\">\n",
       "  <thead>\n",
       "    <tr style=\"text-align: right;\">\n",
       "      <th></th>\n",
       "      <th>app_id</th>\n",
       "      <th>label</th>\n",
       "    </tr>\n",
       "  </thead>\n",
       "  <tbody>\n",
       "    <tr>\n",
       "      <th>0</th>\n",
       "      <td>40000</td>\n",
       "      <td>6</td>\n",
       "    </tr>\n",
       "    <tr>\n",
       "      <th>1</th>\n",
       "      <td>40001</td>\n",
       "      <td>8</td>\n",
       "    </tr>\n",
       "    <tr>\n",
       "      <th>2</th>\n",
       "      <td>40002</td>\n",
       "      <td>5</td>\n",
       "    </tr>\n",
       "    <tr>\n",
       "      <th>3</th>\n",
       "      <td>40003</td>\n",
       "      <td>9</td>\n",
       "    </tr>\n",
       "    <tr>\n",
       "      <th>4</th>\n",
       "      <td>40004</td>\n",
       "      <td>3</td>\n",
       "    </tr>\n",
       "    <tr>\n",
       "      <th>...</th>\n",
       "      <td>...</td>\n",
       "      <td>...</td>\n",
       "    </tr>\n",
       "    <tr>\n",
       "      <th>9995</th>\n",
       "      <td>49995</td>\n",
       "      <td>9</td>\n",
       "    </tr>\n",
       "    <tr>\n",
       "      <th>9996</th>\n",
       "      <td>49996</td>\n",
       "      <td>9</td>\n",
       "    </tr>\n",
       "    <tr>\n",
       "      <th>9997</th>\n",
       "      <td>49997</td>\n",
       "      <td>6</td>\n",
       "    </tr>\n",
       "    <tr>\n",
       "      <th>9998</th>\n",
       "      <td>49998</td>\n",
       "      <td>5</td>\n",
       "    </tr>\n",
       "    <tr>\n",
       "      <th>9999</th>\n",
       "      <td>49999</td>\n",
       "      <td>5</td>\n",
       "    </tr>\n",
       "  </tbody>\n",
       "</table>\n",
       "<p>10000 rows × 2 columns</p>\n",
       "</div>"
      ],
      "text/plain": [
       "      app_id  label\n",
       "0      40000      6\n",
       "1      40001      8\n",
       "2      40002      5\n",
       "3      40003      9\n",
       "4      40004      3\n",
       "...      ...    ...\n",
       "9995   49995      9\n",
       "9996   49996      9\n",
       "9997   49997      6\n",
       "9998   49998      5\n",
       "9999   49999      5\n",
       "\n",
       "[10000 rows x 2 columns]"
      ]
     },
     "execution_count": 103,
     "metadata": {},
     "output_type": "execute_result"
    }
   ],
   "source": [
    "df2"
   ]
  },
  {
   "cell_type": "code",
   "execution_count": 104,
   "metadata": {},
   "outputs": [],
   "source": [
    "df2.to_csv('prediction.csv', index = False)"
   ]
  }
 ],
 "metadata": {
  "kernelspec": {
   "display_name": "Python 3",
   "language": "python",
   "name": "python3"
  },
  "language_info": {
   "codemirror_mode": {
    "name": "ipython",
    "version": 3
   },
   "file_extension": ".py",
   "mimetype": "text/x-python",
   "name": "python",
   "nbconvert_exporter": "python",
   "pygments_lexer": "ipython3",
   "version": "3.9.5"
  }
 },
 "nbformat": 4,
 "nbformat_minor": 2
}
