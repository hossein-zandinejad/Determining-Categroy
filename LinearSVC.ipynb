{
 "cells": [
  {
   "cell_type": "code",
   "execution_count": 3,
   "id": "c1670596",
   "metadata": {},
   "outputs": [],
   "source": [
    "from hazm import *\n",
    "import re\n",
    "import string\n",
    "import numpy as np\n",
    "import pandas as pd\n",
    "from sklearn.pipeline import Pipeline\n",
    "from sklearn.feature_extraction.text import CountVectorizer\n",
    "from sklearn.feature_extraction.text import TfidfTransformer\n",
    "from sklearn.preprocessing import LabelEncoder\n",
    "from sklearn.svm import LinearSVC"
   ]
  },
  {
   "cell_type": "code",
   "execution_count": 9,
   "id": "36555dcd",
   "metadata": {},
   "outputs": [
    {
     "data": {
      "text/html": [
       "<div>\n",
       "<style scoped>\n",
       "    .dataframe tbody tr th:only-of-type {\n",
       "        vertical-align: middle;\n",
       "    }\n",
       "\n",
       "    .dataframe tbody tr th {\n",
       "        vertical-align: top;\n",
       "    }\n",
       "\n",
       "    .dataframe thead th {\n",
       "        text-align: right;\n",
       "    }\n",
       "</style>\n",
       "<table border=\"1\" class=\"dataframe\">\n",
       "  <thead>\n",
       "    <tr style=\"text-align: right;\">\n",
       "      <th></th>\n",
       "      <th>app_id</th>\n",
       "      <th>description_fa</th>\n",
       "      <th>label</th>\n",
       "    </tr>\n",
       "  </thead>\n",
       "  <tbody>\n",
       "    <tr>\n",
       "      <th>0</th>\n",
       "      <td>0</td>\n",
       "      <td>&lt;p&gt;بازی مین روب یک برنامه فکری است که باید مین...</td>\n",
       "      <td>1</td>\n",
       "    </tr>\n",
       "    <tr>\n",
       "      <th>1</th>\n",
       "      <td>1</td>\n",
       "      <td>&lt;p&gt;دراین بازی تعدادی عکس برای شما نشان داده می...</td>\n",
       "      <td>1</td>\n",
       "    </tr>\n",
       "    <tr>\n",
       "      <th>2</th>\n",
       "      <td>2</td>\n",
       "      <td>&lt;br&gt;تلاش نافرجام برای درک «بوفالو»&lt;br&gt;مرگ پایا...</td>\n",
       "      <td>7</td>\n",
       "    </tr>\n",
       "    <tr>\n",
       "      <th>3</th>\n",
       "      <td>3</td>\n",
       "      <td>&lt;p&gt;فیلم نما ، برنامه ای برای دانلود و پخش آنلا...</td>\n",
       "      <td>7</td>\n",
       "    </tr>\n",
       "    <tr>\n",
       "      <th>4</th>\n",
       "      <td>4</td>\n",
       "      <td>&lt;p&gt;* این برنامه حاوی بیش از 500 عکس و ژست برای...</td>\n",
       "      <td>7</td>\n",
       "    </tr>\n",
       "    <tr>\n",
       "      <th>...</th>\n",
       "      <td>...</td>\n",
       "      <td>...</td>\n",
       "      <td>...</td>\n",
       "    </tr>\n",
       "    <tr>\n",
       "      <th>37894</th>\n",
       "      <td>37894</td>\n",
       "      <td>&lt;h3&gt;بدون هیچ هزینه ای، هر هفته مسابقه&lt;/h3&gt;\\n&lt;p...</td>\n",
       "      <td>1</td>\n",
       "    </tr>\n",
       "    <tr>\n",
       "      <th>37895</th>\n",
       "      <td>37895</td>\n",
       "      <td>&lt;p&gt;حیوانات مزرعه به کمک شما احتیاج دارند. بلوک...</td>\n",
       "      <td>1</td>\n",
       "    </tr>\n",
       "    <tr>\n",
       "      <th>37896</th>\n",
       "      <td>37896</td>\n",
       "      <td>&lt;p&gt;&lt;b&gt;_ دوست داری عکس پروفایلت خاص باشه؟&lt;/b&gt;&lt;/...</td>\n",
       "      <td>7</td>\n",
       "    </tr>\n",
       "    <tr>\n",
       "      <th>37897</th>\n",
       "      <td>37897</td>\n",
       "      <td>&lt;p&gt; &lt;p&gt; &lt;b&gt;@@ اولین نسخه این بازی @@ &lt;/b&gt; &lt;br&gt;...</td>\n",
       "      <td>1</td>\n",
       "    </tr>\n",
       "    <tr>\n",
       "      <th>37898</th>\n",
       "      <td>37898</td>\n",
       "      <td>&lt;h4&gt;تاريخي خونين از مردم ايران&lt;/h4&gt;\\n&lt;h4&gt;نبرد ...</td>\n",
       "      <td>0</td>\n",
       "    </tr>\n",
       "  </tbody>\n",
       "</table>\n",
       "<p>37899 rows × 3 columns</p>\n",
       "</div>"
      ],
      "text/plain": [
       "       app_id                                     description_fa  label\n",
       "0           0  <p>بازی مین روب یک برنامه فکری است که باید مین...      1\n",
       "1           1  <p>دراین بازی تعدادی عکس برای شما نشان داده می...      1\n",
       "2           2  <br>تلاش نافرجام برای درک «بوفالو»<br>مرگ پایا...      7\n",
       "3           3  <p>فیلم نما ، برنامه ای برای دانلود و پخش آنلا...      7\n",
       "4           4  <p>* این برنامه حاوی بیش از 500 عکس و ژست برای...      7\n",
       "...       ...                                                ...    ...\n",
       "37894   37894  <h3>بدون هیچ هزینه ای، هر هفته مسابقه</h3>\\n<p...      1\n",
       "37895   37895  <p>حیوانات مزرعه به کمک شما احتیاج دارند. بلوک...      1\n",
       "37896   37896  <p><b>_ دوست داری عکس پروفایلت خاص باشه؟</b></...      7\n",
       "37897   37897  <p> <p> <b>@@ اولین نسخه این بازی @@ </b> <br>...      1\n",
       "37898   37898  <h4>تاريخي خونين از مردم ايران</h4>\\n<h4>نبرد ...      0\n",
       "\n",
       "[37899 rows x 3 columns]"
      ]
     },
     "execution_count": 9,
     "metadata": {},
     "output_type": "execute_result"
    }
   ],
   "source": [
    "train = pd.read_csv('train_set2.csv')\n",
    "train"
   ]
  },
  {
   "cell_type": "code",
   "execution_count": 11,
   "id": "dd2e647b",
   "metadata": {},
   "outputs": [
    {
     "data": {
      "text/html": [
       "<div>\n",
       "<style scoped>\n",
       "    .dataframe tbody tr th:only-of-type {\n",
       "        vertical-align: middle;\n",
       "    }\n",
       "\n",
       "    .dataframe tbody tr th {\n",
       "        vertical-align: top;\n",
       "    }\n",
       "\n",
       "    .dataframe thead th {\n",
       "        text-align: right;\n",
       "    }\n",
       "</style>\n",
       "<table border=\"1\" class=\"dataframe\">\n",
       "  <thead>\n",
       "    <tr style=\"text-align: right;\">\n",
       "      <th></th>\n",
       "      <th>app_id</th>\n",
       "      <th>description_fa</th>\n",
       "    </tr>\n",
       "  </thead>\n",
       "  <tbody>\n",
       "    <tr>\n",
       "      <th>0</th>\n",
       "      <td>40000</td>\n",
       "      <td>&lt;h4&gt;در این برنامه یکی از بازی های جالب میکرو ر...</td>\n",
       "    </tr>\n",
       "    <tr>\n",
       "      <th>1</th>\n",
       "      <td>40001</td>\n",
       "      <td>&lt;p&gt;بازی آموزشی میلونر زبان انگلیسی برای تقویت ...</td>\n",
       "    </tr>\n",
       "    <tr>\n",
       "      <th>2</th>\n",
       "      <td>40002</td>\n",
       "      <td>&lt;p&gt; &lt;b&gt;موضوع رو می بینی و کلمات رو پیدا می کنی...</td>\n",
       "    </tr>\n",
       "    <tr>\n",
       "      <th>3</th>\n",
       "      <td>40003</td>\n",
       "      <td>&lt;p&gt;نرم افزار فول تلگرام در کنار تلگرام امكانات...</td>\n",
       "    </tr>\n",
       "    <tr>\n",
       "      <th>4</th>\n",
       "      <td>40004</td>\n",
       "      <td>&lt;p&gt; فکر می کنی خیلی سریع هستی نه؟        &lt;br&gt; ...</td>\n",
       "    </tr>\n",
       "    <tr>\n",
       "      <th>...</th>\n",
       "      <td>...</td>\n",
       "      <td>...</td>\n",
       "    </tr>\n",
       "    <tr>\n",
       "      <th>9995</th>\n",
       "      <td>49995</td>\n",
       "      <td>&lt;p&gt;فالوورگیر اینستاگرام با امکانات &lt;b&gt;لایک &lt;/b...</td>\n",
       "    </tr>\n",
       "    <tr>\n",
       "      <th>9996</th>\n",
       "      <td>49996</td>\n",
       "      <td>&lt;p&gt;&lt;b&gt;میخوای نامحدود آنفلو کنی ؟&lt;/b&gt;&lt;/p&gt;\\n&lt;p&gt;&lt;...</td>\n",
       "    </tr>\n",
       "    <tr>\n",
       "      <th>9997</th>\n",
       "      <td>49997</td>\n",
       "      <td>&lt;p&gt;یک بازی زیبا از کنسول میکرو&lt;/p&gt;\\n&lt;p&gt;به یاد ...</td>\n",
       "    </tr>\n",
       "    <tr>\n",
       "      <th>9998</th>\n",
       "      <td>49998</td>\n",
       "      <td>&lt;p&gt;دوست داری اطلاعات عمومی بالایی داشته باشی؟&amp;...</td>\n",
       "    </tr>\n",
       "    <tr>\n",
       "      <th>9999</th>\n",
       "      <td>49999</td>\n",
       "      <td>&lt;p&gt;لباس چند تا تیم فوتبالو میشناسی؟!&lt;/p&gt;\\n&lt;p&gt;د...</td>\n",
       "    </tr>\n",
       "  </tbody>\n",
       "</table>\n",
       "<p>10000 rows × 2 columns</p>\n",
       "</div>"
      ],
      "text/plain": [
       "      app_id                                     description_fa\n",
       "0      40000  <h4>در این برنامه یکی از بازی های جالب میکرو ر...\n",
       "1      40001  <p>بازی آموزشی میلونر زبان انگلیسی برای تقویت ...\n",
       "2      40002  <p> <b>موضوع رو می بینی و کلمات رو پیدا می کنی...\n",
       "3      40003  <p>نرم افزار فول تلگرام در کنار تلگرام امكانات...\n",
       "4      40004  <p> فکر می کنی خیلی سریع هستی نه؟        <br> ...\n",
       "...      ...                                                ...\n",
       "9995   49995  <p>فالوورگیر اینستاگرام با امکانات <b>لایک </b...\n",
       "9996   49996  <p><b>میخوای نامحدود آنفلو کنی ؟</b></p>\\n<p><...\n",
       "9997   49997  <p>یک بازی زیبا از کنسول میکرو</p>\\n<p>به یاد ...\n",
       "9998   49998  <p>دوست داری اطلاعات عمومی بالایی داشته باشی؟&...\n",
       "9999   49999  <p>لباس چند تا تیم فوتبالو میشناسی؟!</p>\\n<p>د...\n",
       "\n",
       "[10000 rows x 2 columns]"
      ]
     },
     "execution_count": 11,
     "metadata": {},
     "output_type": "execute_result"
    }
   ],
   "source": [
    "test = pd.read_csv('test_set2.csv')\n",
    "test"
   ]
  },
  {
   "cell_type": "code",
   "execution_count": null,
   "id": "6643c7ec",
   "metadata": {},
   "outputs": [],
   "source": [
    "trainTxt = pd.read_csv('train_set2.txt')"
   ]
  },
  {
   "cell_type": "code",
   "execution_count": null,
   "id": "c2209afa",
   "metadata": {},
   "outputs": [],
   "source": [
    "testTxt = pd.read_csv('test_set2.txt')"
   ]
  },
  {
   "cell_type": "code",
   "execution_count": null,
   "id": "4294a9e4",
   "metadata": {},
   "outputs": [],
   "source": [
    "le = LabelEncoder()\n",
    "Y = le.fit_transform(trainT.label)"
   ]
  },
  {
   "cell_type": "code",
   "execution_count": null,
   "id": "657e29eb",
   "metadata": {},
   "outputs": [],
   "source": [
    "text_clf_svc = Pipeline([('vect', CountVectorizer(ngram_range=(1, 2))),\n",
    "                     ('tfidf', TfidfTransformer()),\n",
    "                     ('clf-svm', LinearSVC(C=0.5, multi_class=\"crammer_singer\", max_iter=5000))])"
   ]
  },
  {
   "cell_type": "code",
   "execution_count": null,
   "id": "f89bb6ed",
   "metadata": {},
   "outputs": [],
   "source": [
    "text_clf_svc = text_clf_svc.fit(train.description_fa.toarray(), Y)"
   ]
  },
  {
   "cell_type": "code",
   "execution_count": null,
   "id": "9a9d145e",
   "metadata": {},
   "outputs": [],
   "source": [
    "tr = trainTxt.description_fa"
   ]
  },
  {
   "cell_type": "code",
   "execution_count": null,
   "id": "3f8fd3f0",
   "metadata": {},
   "outputs": [],
   "source": [
    "predicted = text_clf_svc.predict(tr)"
   ]
  },
  {
   "cell_type": "code",
   "execution_count": null,
   "id": "cb52cb17",
   "metadata": {},
   "outputs": [],
   "source": [
    "predicted_svc = text_clf_svc.predict(tesTxt.description_fa)"
   ]
  },
  {
   "cell_type": "code",
   "execution_count": null,
   "id": "53547f68",
   "metadata": {},
   "outputs": [],
   "source": [
    "pred_test = le.inverse_transform(predicted_svc)\n",
    "pred_test"
   ]
  },
  {
   "cell_type": "code",
   "execution_count": null,
   "id": "0b286da7",
   "metadata": {},
   "outputs": [],
   "source": [
    "output = pd.DataFrame(pred_test)\n",
    "output"
   ]
  },
  {
   "cell_type": "code",
   "execution_count": null,
   "id": "a4802e99",
   "metadata": {},
   "outputs": [],
   "source": [
    "predicted_svc = text_clf_svc.predict(test.description_fa)"
   ]
  },
  {
   "cell_type": "code",
   "execution_count": null,
   "id": "3f83e82c",
   "metadata": {},
   "outputs": [],
   "source": [
    "pred_test = le.inverse_transform(predicted_svc)\n",
    "pred_test"
   ]
  },
  {
   "cell_type": "code",
   "execution_count": null,
   "id": "2991b0cd",
   "metadata": {},
   "outputs": [],
   "source": [
    "output = pd.DataFrame(pred_test)\n",
    "output"
   ]
  },
  {
   "cell_type": "code",
   "execution_count": null,
   "id": "d9424fdb",
   "metadata": {},
   "outputs": [],
   "source": [
    "output.to_csv('prediction.csv', index = False)"
   ]
  }
 ],
 "metadata": {
  "kernelspec": {
   "display_name": "Python 3",
   "language": "python",
   "name": "python3"
  },
  "language_info": {
   "codemirror_mode": {
    "name": "ipython",
    "version": 3
   },
   "file_extension": ".py",
   "mimetype": "text/x-python",
   "name": "python",
   "nbconvert_exporter": "python",
   "pygments_lexer": "ipython3",
   "version": "3.9.5"
  }
 },
 "nbformat": 4,
 "nbformat_minor": 5
}
